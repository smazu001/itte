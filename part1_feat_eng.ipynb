{
 "cells": [
  {
   "cell_type": "code",
   "execution_count": 1,
   "id": "fe4d1590",
   "metadata": {},
   "outputs": [],
   "source": [
    "## import libs\n",
    "## FluidSynth install look for better options in future\n",
    "\n",
    "import pandas as pd\n",
    "import numpy as np\n",
    "import seaborn as sns\n",
    "import matplotlib.pylab as plt\n",
    "from glob import glob\n",
    "from PIL import Image\n",
    "import librosa\n",
    "import librosa.display\n",
    "import IPython.display as ipd\n",
    "import fluidsynth\n",
    "from midi2audio import FluidSynth\n",
    "from itertools import cycle\n",
    "import os\n",
    "from sklearn.preprocessing import minmax_scale"
   ]
  },
  {
   "cell_type": "code",
   "execution_count": 2,
   "id": "e065df34",
   "metadata": {},
   "outputs": [],
   "source": [
    "### extract features\n",
    "def extract_features(sig, sr, fs, hs, composer):\n",
    "    zcr = librosa.feature.zero_crossing_rate(y=sig, frame_length=fs, hop_length=hs)\n",
    "    sc = librosa.feature.spectral_centroid(y=sig, sr=sr, n_fft=fs,\n",
    "                                                          hop_length=hs)\n",
    "    sb = librosa.feature.spectral_bandwidth(y=sig, sr=sr, n_fft=fs,\n",
    "                                                            hop_length=hs)\n",
    "    sroff = librosa.feature.spectral_rolloff(y=sig, sr=sr, n_fft=fs, hop_length=hs)\n",
    "    mfcc = librosa.feature.mfcc(y=sig, sr=sr, n_fft=fs, hop_length=hs)\n",
    "    scont = librosa.feature.spectral_contrast(y=sig, sr=sr, n_fft=fs,\n",
    "                                                          hop_length=hs)\n",
    "    \n",
    "    return [\n",
    "\n",
    "        np.mean(zcr),#zcr\n",
    "        np.std(zcr), \n",
    "        np.mean(sc), #spectral_centroid\n",
    "        np.std(sc),\n",
    "        np.mean(sb), #spectral_bandwidth\n",
    "        np.std(sb),#spectral_bandwidth\n",
    "        np.mean(sroff),#spectral_rolloff\n",
    "        np.std(sroff), # std\n",
    "        np.mean(scont),#spectral_contrast\n",
    "        np.std(scont),\n",
    "        np.mean(mfcc[1, :]),\n",
    "        np.std(mfcc[1, :]),\n",
    "        np.mean(mfcc[2, :]),\n",
    "        np.std(mfcc[2, :]),\n",
    "        np.mean(mfcc[3, :]),\n",
    "        np.std(mfcc[3, :]),\n",
    "        np.mean(mfcc[4, :]),\n",
    "        np.std(mfcc[4, :]),\n",
    "        np.mean(mfcc[5, :]),\n",
    "        np.std(mfcc[5, :]),\n",
    "        np.mean(mfcc[6, :]),\n",
    "        np.std(mfcc[6, :]),\n",
    "        np.mean(mfcc[7, :]),\n",
    "        np.std(mfcc[7, :]),\n",
    "        np.mean(mfcc[8, :]),\n",
    "        np.std(mfcc[8, :]),\n",
    "        np.mean(mfcc[9, :]),\n",
    "        np.std(mfcc[9, :]),\n",
    "        np.mean(mfcc[10, :]),\n",
    "        np.std(mfcc[10, :]),\n",
    "        np.mean(mfcc[11, :]),\n",
    "        np.std(mfcc[11, :]),\n",
    "        np.mean(mfcc[12, :]),\n",
    "        np.std(mfcc[12, :]),\n",
    "        np.mean(mfcc[13, :]),\n",
    "        np.std(mfcc[13, :]),\n",
    "        composer\n",
    "    ]"
   ]
  },
  {
   "cell_type": "code",
   "execution_count": 3,
   "id": "98a9ed03",
   "metadata": {},
   "outputs": [],
   "source": [
    "## loading to librosa\n",
    "def load_file(file):\n",
    "    y,sr = librosa.load(file)\n",
    "    return y,sr"
   ]
  },
  {
   "cell_type": "code",
   "execution_count": 4,
   "id": "f9ca40c2",
   "metadata": {},
   "outputs": [],
   "source": [
    "## helper to get all composer files\n",
    "def get_all_composer_files(path):\n",
    "    audio_files = glob(path)\n",
    "    return audio_files"
   ]
  },
  {
   "cell_type": "code",
   "execution_count": 5,
   "id": "36041de3",
   "metadata": {},
   "outputs": [
    {
     "name": "stdout",
     "output_type": "stream",
     "text": [
      "126\n",
      "1692\n",
      "326\n",
      "374\n"
     ]
    }
   ],
   "source": [
    "### get all files per composer\n",
    "audio_files_bach = get_all_composer_files('../deloitte/PartOne/PS1/Bach/split_files/*')\n",
    "audio_files_beet = get_all_composer_files('../deloitte/PartOne/PS1/Beethoven/split_files/*')\n",
    "audio_files_brahms = get_all_composer_files('../deloitte/PartOne/PS1/Brahms/split_files/*')\n",
    "audio_files_schubert = get_all_composer_files('../deloitte/PartOne/PS1/Schubert/split_files/*')\n",
    "print(len(audio_files_bach))\n",
    "print(len(audio_files_beet))\n",
    "print(len(audio_files_brahms))\n",
    "print(len(audio_files_schubert))\n"
   ]
  },
  {
   "cell_type": "code",
   "execution_count": 6,
   "id": "1e8acd79",
   "metadata": {},
   "outputs": [],
   "source": [
    "### features\n",
    "columns_frame = ['zcr_mean', \n",
    "         'zcr_std',\n",
    "        'sc_mean',\n",
    "         'sc_std',\n",
    "         'scont_mean',\n",
    "         'scont_std',\n",
    "         'sb_mean',\n",
    "         'sb_std',\n",
    "         'sroff_mean',\n",
    "         'sroff_std',\n",
    "         'mfccs1_mean',\n",
    "         'mfccs1_std',\n",
    "         'mfccs2_mean',\n",
    "         'mfccs2_std',\n",
    "         'mfccs3_mean',\n",
    "         'mfccs3_std',\n",
    "         'mfccs4_mean',\n",
    "         'mfccs4_std',\n",
    "         'mfccs5_mean',\n",
    "         'mfccs5_std',\n",
    "         'mfccs6_mean',\n",
    "         'mfccs6_std',\n",
    "         'mfccs7_mean',\n",
    "         'mfccs7_std',\n",
    "         'mfccs8_mean',\n",
    "         'mfccs8_std',\n",
    "         'mfccs9_mean',\n",
    "         'mfccs9_std',\n",
    "         'mfccs10_mean',\n",
    "         'mfccs10_std',\n",
    "         'mfccs11_mean',\n",
    "         'mfccs11_std',\n",
    "         'mfccs12_mean',\n",
    "         'mfccs12_std',\n",
    "         'mfccs13_mean',\n",
    "         'mfccs13_std',\n",
    "         'composer'\n",
    "    ]"
   ]
  },
  {
   "cell_type": "code",
   "execution_count": 31,
   "id": "a208b196",
   "metadata": {},
   "outputs": [],
   "source": [
    "### extract features from files\n",
    "### also add a return column containing composer name\n",
    "### for PS2 target, assign column with file name\n",
    "def extract_features_from_files(audio_files,fs,hs,composer):\n",
    "    res = []\n",
    "    i=0\n",
    "    #### to handle targets PS2 along with files with composers\n",
    "    if composer==None:\n",
    "        check_composer = False\n",
    "    else:\n",
    "        check_composer = True\n",
    "        \n",
    "    for file in audio_files:\n",
    "        if check_composer is False:\n",
    "            composer= os.path.basename(file)\n",
    "        i+=1\n",
    "        FRAME_SIZE = fs \n",
    "        HOP_SIZE = hs\n",
    "        y, sr = load_file(file)\n",
    "        res.append(extract_features(y, sr,FRAME_SIZE, HOP_SIZE,composer))\n",
    "    print(f'processed {i}')\n",
    "    return pd.DataFrame(res, columns = columns_frame)"
   ]
  },
  {
   "cell_type": "code",
   "execution_count": 10,
   "id": "2b151981",
   "metadata": {},
   "outputs": [
    {
     "name": "stdout",
     "output_type": "stream",
     "text": [
      "processed 326\n",
      "processed 374\n"
     ]
    }
   ],
   "source": [
    "df_bach = extract_features_from_files(audio_files_bach,2048,512,\"Bach\")\n",
    "df_beet = extract_features_from_files(audio_files_beet,2048,512,\"Beethoven\")\n",
    "df_brahms = extract_features_from_files(audio_files_brahms,2048,512,\"Brahms\")\n",
    "df_shub = extract_features_from_files(audio_files_schubert,2048,512, \"Schubert\")\n"
   ]
  },
  {
   "cell_type": "code",
   "execution_count": 12,
   "id": "220116fb",
   "metadata": {},
   "outputs": [
    {
     "name": "stdout",
     "output_type": "stream",
     "text": [
      "(126, 37)\n",
      "(1692, 37)\n",
      "(326, 37)\n",
      "(374, 37)\n"
     ]
    }
   ],
   "source": [
    "print(df_bach.shape)\n",
    "print(df_beet.shape)\n",
    "print(df_brahms.shape)\n",
    "print(df_schub.shape)"
   ]
  },
  {
   "cell_type": "code",
   "execution_count": 13,
   "id": "f4deba48",
   "metadata": {},
   "outputs": [
    {
     "name": "stderr",
     "output_type": "stream",
     "text": [
      "/var/folders/08/dpzlrd_n27zb6zw32lf533640000gn/T/ipykernel_7108/274115825.py:1: FutureWarning: The frame.append method is deprecated and will be removed from pandas in a future version. Use pandas.concat instead.\n",
      "  df_final = df_bach.append(df_beet).append(df_brahms).append(df_shub)\n",
      "/var/folders/08/dpzlrd_n27zb6zw32lf533640000gn/T/ipykernel_7108/274115825.py:1: FutureWarning: The frame.append method is deprecated and will be removed from pandas in a future version. Use pandas.concat instead.\n",
      "  df_final = df_bach.append(df_beet).append(df_brahms).append(df_shub)\n"
     ]
    }
   ],
   "source": [
    "df_final = df_bach.append(df_beet).append(df_brahms).append(df_schub)\n",
    "df_final.to_csv(\"feats.csv\", index=False)"
   ]
  },
  {
   "cell_type": "code",
   "execution_count": 15,
   "id": "914b509f",
   "metadata": {},
   "outputs": [
    {
     "name": "stdout",
     "output_type": "stream",
     "text": [
      "processed 347\n"
     ]
    }
   ],
   "source": [
    "audio_files_target = glob('../deloitte/PartOne/PS2/split_files30/*')\n",
    "df_target = extract_features_from_files(audio_files_target,2048,512,None)\n",
    "df_target.to_csv(\"target_feats.csv\",index=False)"
   ]
  },
  {
   "cell_type": "markdown",
   "id": "1832c9fa",
   "metadata": {},
   "source": [
    "# lets do 15sec"
   ]
  },
  {
   "cell_type": "code",
   "execution_count": 17,
   "id": "0252a1db",
   "metadata": {},
   "outputs": [
    {
     "name": "stdout",
     "output_type": "stream",
     "text": [
      "242\n",
      "3308\n",
      "640\n",
      "737\n"
     ]
    }
   ],
   "source": [
    "### get all files per composer\n",
    "audio_files_bach = get_all_composer_files('../deloitte/PartOne/PS1/Bach/split_files15/*')\n",
    "audio_files_beet = get_all_composer_files('../deloitte/PartOne/PS1/Beethoven/split_files15/*')\n",
    "audio_files_brahms = get_all_composer_files('../deloitte/PartOne/PS1/Brahms/split_files15/*')\n",
    "audio_files_schubert = get_all_composer_files('../deloitte/PartOne/PS1/Schubert/split_files15/*')\n",
    "print(len(audio_files_bach))\n",
    "print(len(audio_files_beet))\n",
    "print(len(audio_files_brahms))\n",
    "print(len(audio_files_schubert))"
   ]
  },
  {
   "cell_type": "code",
   "execution_count": 18,
   "id": "7117534d",
   "metadata": {},
   "outputs": [
    {
     "name": "stdout",
     "output_type": "stream",
     "text": [
      "processed 242\n"
     ]
    },
    {
     "name": "stderr",
     "output_type": "stream",
     "text": [
      "/Users/saurav/opt/anaconda3/envs/audio/lib/python3.9/site-packages/librosa/core/spectrum.py:257: UserWarning: n_fft=1024 is too large for input signal of length=684\n",
      "  warnings.warn(\n",
      "/Users/saurav/opt/anaconda3/envs/audio/lib/python3.9/site-packages/librosa/core/spectrum.py:257: UserWarning: n_fft=1024 is too large for input signal of length=662\n",
      "  warnings.warn(\n",
      "/Users/saurav/opt/anaconda3/envs/audio/lib/python3.9/site-packages/librosa/core/spectrum.py:257: UserWarning: n_fft=1024 is too large for input signal of length=22\n",
      "  warnings.warn(\n"
     ]
    },
    {
     "name": "stdout",
     "output_type": "stream",
     "text": [
      "processed 3308\n",
      "processed 640\n",
      "processed 737\n"
     ]
    }
   ],
   "source": [
    "df_bach = extract_features_from_files(audio_files_bach,1024,256,\"Bach\")\n",
    "df_beet = extract_features_from_files(audio_files_beet,1024,256,\"Beethoven\")\n",
    "df_brahms = extract_features_from_files(audio_files_brahms,1024,256,\"Brahms\")\n",
    "df_schub = extract_features_from_files(audio_files_schubert,1024,256, \"Schubert\")\n"
   ]
  },
  {
   "cell_type": "code",
   "execution_count": 19,
   "id": "dff03b4d",
   "metadata": {},
   "outputs": [
    {
     "name": "stdout",
     "output_type": "stream",
     "text": [
      "(242, 37)\n",
      "(3308, 37)\n",
      "(640, 37)\n",
      "(737, 37)\n"
     ]
    }
   ],
   "source": [
    "print(df_bach.shape)\n",
    "print(df_beet.shape)\n",
    "print(df_brahms.shape)\n",
    "print(df_schub.shape)"
   ]
  },
  {
   "cell_type": "code",
   "execution_count": 20,
   "id": "cefe68e4",
   "metadata": {},
   "outputs": [
    {
     "name": "stderr",
     "output_type": "stream",
     "text": [
      "/var/folders/08/dpzlrd_n27zb6zw32lf533640000gn/T/ipykernel_7108/911208544.py:1: FutureWarning: The frame.append method is deprecated and will be removed from pandas in a future version. Use pandas.concat instead.\n",
      "  df_final = df_bach.append(df_beet).append(df_brahms).append(df_schub)\n",
      "/var/folders/08/dpzlrd_n27zb6zw32lf533640000gn/T/ipykernel_7108/911208544.py:1: FutureWarning: The frame.append method is deprecated and will be removed from pandas in a future version. Use pandas.concat instead.\n",
      "  df_final = df_bach.append(df_beet).append(df_brahms).append(df_schub)\n"
     ]
    }
   ],
   "source": [
    "df_final = df_bach.append(df_beet).append(df_brahms).append(df_schub)\n",
    "df_final.to_csv(\"feats15.csv\", index=False)"
   ]
  },
  {
   "cell_type": "code",
   "execution_count": 32,
   "id": "3c97df13",
   "metadata": {},
   "outputs": [
    {
     "name": "stdout",
     "output_type": "stream",
     "text": [
      "processed 671\n"
     ]
    }
   ],
   "source": [
    "audio_files_target = glob('../deloitte/PartOne/PS2/split_files15/*')\n",
    "df_target = extract_features_from_files(audio_files_target,1024,256,None)\n",
    "df_target.to_csv(\"target_feats15.csv\",index=False)"
   ]
  },
  {
   "cell_type": "markdown",
   "id": "b6b20805",
   "metadata": {},
   "source": [
    "# lets do 1 min"
   ]
  },
  {
   "cell_type": "code",
   "execution_count": 23,
   "id": "7067a702",
   "metadata": {},
   "outputs": [
    {
     "name": "stdout",
     "output_type": "stream",
     "text": [
      "67\n",
      "883\n",
      "166\n",
      "193\n"
     ]
    }
   ],
   "source": [
    "### get all files per composer\n",
    "audio_files_bach = get_all_composer_files('../deloitte/PartOne/PS1/Bach/split_files60/*')\n",
    "audio_files_beet = get_all_composer_files('../deloitte/PartOne/PS1/Beethoven/split_files60/*')\n",
    "audio_files_brahms = get_all_composer_files('../deloitte/PartOne/PS1/Brahms/split_files60/*')\n",
    "audio_files_schubert = get_all_composer_files('../deloitte/PartOne/PS1/Schubert/split_files60/*')\n",
    "print(len(audio_files_bach))\n",
    "print(len(audio_files_beet))\n",
    "print(len(audio_files_brahms))\n",
    "print(len(audio_files_schubert))"
   ]
  },
  {
   "cell_type": "code",
   "execution_count": 24,
   "id": "0409fc3f",
   "metadata": {},
   "outputs": [
    {
     "name": "stdout",
     "output_type": "stream",
     "text": [
      "processed 67\n"
     ]
    },
    {
     "name": "stderr",
     "output_type": "stream",
     "text": [
      "/Users/saurav/opt/anaconda3/envs/audio/lib/python3.9/site-packages/librosa/core/spectrum.py:257: UserWarning: n_fft=4096 is too large for input signal of length=22\n",
      "  warnings.warn(\n"
     ]
    },
    {
     "name": "stdout",
     "output_type": "stream",
     "text": [
      "processed 883\n",
      "processed 166\n",
      "processed 193\n"
     ]
    }
   ],
   "source": [
    "df_bach = extract_features_from_files(audio_files_bach,4096,1024,\"Bach\")\n",
    "df_beet = extract_features_from_files(audio_files_beet,4096,1024,\"Beethoven\")\n",
    "df_brahms = extract_features_from_files(audio_files_brahms,4096,1024,\"Brahms\")\n",
    "df_schub = extract_features_from_files(audio_files_schubert,4096,1024, \"Schubert\")\n"
   ]
  },
  {
   "cell_type": "code",
   "execution_count": 25,
   "id": "68b6b046",
   "metadata": {},
   "outputs": [
    {
     "name": "stdout",
     "output_type": "stream",
     "text": [
      "(67, 37)\n",
      "(883, 37)\n",
      "(166, 37)\n",
      "(193, 37)\n"
     ]
    }
   ],
   "source": [
    "print(df_bach.shape)\n",
    "print(df_beet.shape)\n",
    "print(df_brahms.shape)\n",
    "print(df_schub.shape)"
   ]
  },
  {
   "cell_type": "code",
   "execution_count": 26,
   "id": "e775cc01",
   "metadata": {},
   "outputs": [
    {
     "name": "stderr",
     "output_type": "stream",
     "text": [
      "/var/folders/08/dpzlrd_n27zb6zw32lf533640000gn/T/ipykernel_7108/713426919.py:1: FutureWarning: The frame.append method is deprecated and will be removed from pandas in a future version. Use pandas.concat instead.\n",
      "  df_final = df_bach.append(df_beet).append(df_brahms).append(df_schub)\n",
      "/var/folders/08/dpzlrd_n27zb6zw32lf533640000gn/T/ipykernel_7108/713426919.py:1: FutureWarning: The frame.append method is deprecated and will be removed from pandas in a future version. Use pandas.concat instead.\n",
      "  df_final = df_bach.append(df_beet).append(df_brahms).append(df_schub)\n"
     ]
    }
   ],
   "source": [
    "df_final = df_bach.append(df_beet).append(df_brahms).append(df_schub)\n",
    "df_final.to_csv(\"feats60.csv\", index=False)"
   ]
  },
  {
   "cell_type": "code",
   "execution_count": 33,
   "id": "e095feae",
   "metadata": {},
   "outputs": [
    {
     "name": "stdout",
     "output_type": "stream",
     "text": [
      "processed 183\n"
     ]
    }
   ],
   "source": [
    "audio_files_target = glob('../deloitte/PartOne/PS2/split_files60/*')\n",
    "df_target = extract_features_from_files(audio_files_target,4096,1024,None)\n",
    "df_target.to_csv(\"target_feats60.csv\",index=False)"
   ]
  },
  {
   "cell_type": "code",
   "execution_count": null,
   "id": "34bbb9b5",
   "metadata": {},
   "outputs": [],
   "source": []
  }
 ],
 "metadata": {
  "kernelspec": {
   "display_name": "Python 3 (ipykernel)",
   "language": "python",
   "name": "python3"
  },
  "language_info": {
   "codemirror_mode": {
    "name": "ipython",
    "version": 3
   },
   "file_extension": ".py",
   "mimetype": "text/x-python",
   "name": "python",
   "nbconvert_exporter": "python",
   "pygments_lexer": "ipython3",
   "version": "3.9.18"
  }
 },
 "nbformat": 4,
 "nbformat_minor": 5
}
